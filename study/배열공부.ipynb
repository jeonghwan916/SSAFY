{
 "cells": [
  {
   "cell_type": "markdown",
   "metadata": {},
   "source": [
    "방향 배열  \n",
    "direct 배열  \n",
    "delta 배열  "
   ]
  },
  {
   "cell_type": "markdown",
   "metadata": {},
   "source": [
    "3 5 4  \n",
    "1 1 2  \n",
    "1 3 9  \n",
    "타겟 좌표에서 위 아래 좌 우 합  \n",
    "if 1,1 이면 5+3+1+2  \n",
    "if 2,0 이면 1+X+X+3 (범위를 벗어남)  "
   ]
  },
  {
   "cell_type": "markdown",
   "metadata": {},
   "source": [
    "상, 하, 좌, 우 더하기"
   ]
  },
  {
   "cell_type": "code",
   "execution_count": 2,
   "metadata": {},
   "outputs": [
    {
     "name": "stdout",
     "output_type": "stream",
     "text": [
      "6\n"
     ]
    }
   ],
   "source": [
    "arr = [[3,5,4],\n",
    "       [1,1,2],\n",
    "       [1,3,9]]\n",
    "\n",
    "y, x = map(int,input().split())\n",
    "directy = [-1,1,0,0]\n",
    "directx = [0,0,-1,1]\n",
    "\n",
    "Sum = 0\n",
    "for i in range(4):\n",
    "    dy = y + directy[i]\n",
    "    dx = x + directx[i]\n",
    "    if dy < 0 or dy >= 3 or dx < 0 or dx >=3:\n",
    "        continue\n",
    "    Sum += arr[dy][dx]\n",
    "print(Sum)"
   ]
  },
  {
   "cell_type": "markdown",
   "metadata": {},
   "source": [
    "대각선 더하기"
   ]
  },
  {
   "cell_type": "code",
   "execution_count": 5,
   "metadata": {},
   "outputs": [
    {
     "name": "stdout",
     "output_type": "stream",
     "text": [
      "25920\n"
     ]
    }
   ],
   "source": [
    "arr = [ [3, 5, 4, 5, 6],\n",
    "        [1, 1, 2, 7, 8],\n",
    "        [1, 2, 9, 1, 2],\n",
    "        [3, 5, 4, 5, 6],\n",
    "        [1, 1, 2, 7, 8]]\n",
    "\n",
    "y, x = map(int,input().split())\n",
    "cory = [0,-1,-1,1,1]\n",
    "corx = [0,-1,1,-1,1]\n",
    "gob = 1\n",
    "for i in range(5):\n",
    "    dy = y + cory[i]\n",
    "    dx = x + cory[i]\n",
    "    if dy < 0 or dy >= 5 or dx < 0 or dx >=5:\n",
    "        continue\n",
    "    gob *= arr[dy][dx]\n",
    "\n",
    "print(gob)\n",
    "\n",
    "\n"
   ]
  },
  {
   "cell_type": "markdown",
   "metadata": {},
   "source": [
    "위, 아래, 좌, 우 3칸 더하기"
   ]
  },
  {
   "cell_type": "code",
   "execution_count": 8,
   "metadata": {},
   "outputs": [
    {
     "name": "stdout",
     "output_type": "stream",
     "text": [
      "31\n"
     ]
    }
   ],
   "source": [
    "arr = [ [3, 5, 4, 5, 6],\n",
    "        [1, 1, 2, 7, 8],\n",
    "        [1, 2, 9, 1, 2],\n",
    "        [3, 5, 4, 5, 6],\n",
    "        [1, 1, 2, 7, 8]]\n",
    "Sum = 0\n",
    "y, x = map(int,input().split())\n",
    "way = [0,0,-1,1]\n",
    "wax = [-1,1,0,0]\n",
    "for i in range(4):\n",
    "    for j in range(1,4):\n",
    "        dy = y + cory[i] * j\n",
    "        dx = x + cory[i] * j\n",
    "        if dy < 0 or dy >= 5 or dx < 0 or dx >=5:\n",
    "            continue\n",
    "        Sum += arr[dy][dx]\n",
    "\n",
    "print(Sum)"
   ]
  },
  {
   "cell_type": "markdown",
   "metadata": {},
   "source": [
    "상,하,좌,우 합이 가장 클때 Max 값과 그 좌표"
   ]
  },
  {
   "cell_type": "code",
   "execution_count": 12,
   "metadata": {},
   "outputs": [
    {
     "name": "stdout",
     "output_type": "stream",
     "text": [
      "36 2 2\n"
     ]
    }
   ],
   "source": [
    "arr=[[1,2,3,4],\n",
    "    [1,2,9,4],\n",
    "    [1,9,3,9],\n",
    "    [1,2,9,4]]\n",
    "\n",
    "def getsum(y,x):\n",
    "    directy=[-1,1,0,0]\n",
    "    directx=[0,0,-1,1]\n",
    "    Sum=0\n",
    "    for i in range(4):\n",
    "        dy=directy[i]+y\n",
    "        dx=directx[i]+x\n",
    "        if dy<0 or dx<0 or dy>3 or dx>3: continue\n",
    "        Sum+=arr[dy][dx]\n",
    "    return Sum\n",
    "\n",
    "Max=-21e8\n",
    "Maxi,Maxj=0,0\n",
    "for i in range(4):\n",
    "    for j in range(4):\n",
    "        ret=getsum(i,j)\n",
    "        if ret>Max:\n",
    "            Max=ret\n",
    "            Maxi=i\n",
    "            Maxj=j\n",
    "print(Max,Maxi,Maxj)"
   ]
  },
  {
   "cell_type": "markdown",
   "metadata": {},
   "source": [
    "N 정수 한개 입력   \n",
    "N*N사이즈의 배열에 저장할 정수값 입력  \n",
    "3  \n",
    "1 2 3  \n",
    "5 9 4  \n",
    "9 9 9  \n",
    "\n",
    "4  \n",
    "3 6 9 7  \n",
    "8 1 1 3  \n",
    "1 1 1 2  \n",
    "2 1 1 1  \n",
    "\n",
    "위 아래 좌 우 합을 구한 후\n",
    "합 - 기존 좌표의 값\n",
    "이것중 Max 값\n",
    "if 합을 구하는 과정중 배열의 범위를 벗어나면 그 값은 0이라고 취급"
   ]
  },
  {
   "cell_type": "code",
   "execution_count": 1,
   "metadata": {},
   "outputs": [
    {
     "ename": "TypeError",
     "evalue": "'<' not supported between instances of 'list' and 'int'",
     "output_type": "error",
     "traceback": [
      "\u001b[1;31m---------------------------------------------------------------------------\u001b[0m",
      "\u001b[1;31mTypeError\u001b[0m                                 Traceback (most recent call last)",
      "Cell \u001b[1;32mIn[1], line 24\u001b[0m\n\u001b[0;32m     22\u001b[0m \u001b[38;5;28;01mfor\u001b[39;00m i \u001b[38;5;129;01min\u001b[39;00m \u001b[38;5;28mrange\u001b[39m(N):\n\u001b[0;32m     23\u001b[0m     \u001b[38;5;28;01mfor\u001b[39;00m j \u001b[38;5;129;01min\u001b[39;00m \u001b[38;5;28mrange\u001b[39m(N):\n\u001b[1;32m---> 24\u001b[0m         bestest \u001b[38;5;241m=\u001b[39m \u001b[43msumsum\u001b[49m\u001b[43m(\u001b[49m\u001b[43mi\u001b[49m\u001b[43m,\u001b[49m\u001b[43mj\u001b[49m\u001b[43m,\u001b[49m\u001b[43m \u001b[49m\u001b[43mN\u001b[49m\u001b[43m)\u001b[49m\n\u001b[0;32m     25\u001b[0m         \u001b[38;5;28;01mif\u001b[39;00m bestest \u001b[38;5;241m>\u001b[39m best:\n\u001b[0;32m     26\u001b[0m             best \u001b[38;5;241m=\u001b[39m bestest\n",
      "Cell \u001b[1;32mIn[1], line 11\u001b[0m, in \u001b[0;36msumsum\u001b[1;34m(ii, jj, N)\u001b[0m\n\u001b[0;32m      9\u001b[0m ny \u001b[38;5;241m=\u001b[39m arr[ii\u001b[38;5;241m+\u001b[39mdirecty[i]]\n\u001b[0;32m     10\u001b[0m nx \u001b[38;5;241m=\u001b[39m arr[jj\u001b[38;5;241m+\u001b[39mdirectx[i]]\n\u001b[1;32m---> 11\u001b[0m \u001b[38;5;28;01mif\u001b[39;00m \u001b[43mny\u001b[49m\u001b[43m \u001b[49m\u001b[38;5;241;43m<\u001b[39;49m\u001b[43m \u001b[49m\u001b[38;5;241;43m0\u001b[39;49m \u001b[38;5;129;01mor\u001b[39;00m ny \u001b[38;5;241m>\u001b[39m\u001b[38;5;241m=\u001b[39m N \u001b[38;5;129;01mor\u001b[39;00m nx \u001b[38;5;241m<\u001b[39m \u001b[38;5;241m0\u001b[39m \u001b[38;5;129;01mor\u001b[39;00m nx \u001b[38;5;241m>\u001b[39m\u001b[38;5;241m=\u001b[39m N:\n\u001b[0;32m     12\u001b[0m     Sum \u001b[38;5;241m=\u001b[39m \u001b[38;5;241m0\u001b[39m\n\u001b[0;32m     13\u001b[0m     \u001b[38;5;28;01mreturn\u001b[39;00m Sum\n",
      "\u001b[1;31mTypeError\u001b[0m: '<' not supported between instances of 'list' and 'int'"
     ]
    }
   ],
   "source": [
    "N = int(input())\n",
    "arr = [list(map(int, input().split())) for _ in range(N)]\n",
    "directy=[-1,1,0,0]\n",
    "directx=[0,0,-1,1]\n",
    "\n",
    "def sumsum(ii, jj, N):\n",
    "    Sum = 0\n",
    "    for i in range(4):\n",
    "        ny = arr[ii+directy[i]]\n",
    "        nx = arr[jj+directx[i]]\n",
    "        if ny < 0 or ny >= N or nx < 0 or nx >= N:\n",
    "            Sum = 0\n",
    "            return Sum\n",
    "        Sum += arr[ny][nx]\n",
    "    return Sum - arr[ii][jj]\n",
    "\n",
    "        \n",
    "bestest = 0\n",
    "best = 0\n",
    "by, bx = 0, 0\n",
    "\n",
    "for i in range(N):\n",
    "    for j in range(N):\n",
    "        bestest = sumsum(i,j, N)\n",
    "        if bestest > best:\n",
    "            best = bestest\n",
    "            by, bx = i, j\n",
    "\n",
    "print(best)\n",
    "print(by, bx)"
   ]
  }
 ],
 "metadata": {
  "kernelspec": {
   "display_name": "Python 3",
   "language": "python",
   "name": "python3"
  },
  "language_info": {
   "codemirror_mode": {
    "name": "ipython",
    "version": 3
   },
   "file_extension": ".py",
   "mimetype": "text/x-python",
   "name": "python",
   "nbconvert_exporter": "python",
   "pygments_lexer": "ipython3",
   "version": "3.9.13"
  }
 },
 "nbformat": 4,
 "nbformat_minor": 2
}
