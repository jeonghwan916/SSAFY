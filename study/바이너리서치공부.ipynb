{
 "cells": [
  {
   "cell_type": "markdown",
   "metadata": {},
   "source": [
    "바이너리 서치   \n",
    "바이너리 서치 트리"
   ]
  },
  {
   "cell_type": "markdown",
   "metadata": {},
   "source": [
    "1 3 5 7 9 11 13 14 15  \n",
    "N개의 숫자 입력  \n",
    "target = 10  \n",
    "처음부터 끝까지 탐색이 아니라 반반씩 짤라서 탐색\n",
    "\n",
    "start = 0[1]   \n",
    "end = 8[15]\n",
    "mid = 4[9]   \n",
    "타겟이 mid 보다 크네>>\n",
    "오른쪽 부분 탐색 = start = mid +1 , end = end\n",
    "== [10, 15]\n",
    "오른쪽 부분의 mid값 은...\n",
    "\n",
    "\n",
    "전제조건 : 정렬이 되어있는 배열"
   ]
  },
  {
   "cell_type": "code",
   "execution_count": 7,
   "metadata": {},
   "outputs": [
    {
     "name": "stdout",
     "output_type": "stream",
     "text": [
      "없다\n"
     ]
    }
   ],
   "source": [
    "def BS(st, ed):\n",
    "  while 1:\n",
    "    mid = (st+ed)//2\n",
    "    if lst[mid] == target:\n",
    "      return 1\n",
    "    elif lst[mid] <target:\n",
    "      st = mid+1\n",
    "    elif lst[mid] >target:\n",
    "      ed = mid-1\n",
    "    if st > ed:\n",
    "      return 0   \n",
    "\n",
    "#      0,1,2,3,4, 5, 6, 7, 8\n",
    "lst = [1,3,5,7,9,11,13,14,15]\n",
    "target = 10\n",
    "st = 0\n",
    "ed = len(lst)-1\n",
    "if BS(st, ed):\n",
    "  print('있다')\n",
    "else:\n",
    "  print('없다')"
   ]
  },
  {
   "cell_type": "markdown",
   "metadata": {},
   "source": [
    "Parametric search   \n",
    "파라메트릭 서치   \n",
    "bettery = ['#','#','#','#','#','#','#','_','_','_']"
   ]
  },
  {
   "cell_type": "code",
   "execution_count": 10,
   "metadata": {},
   "outputs": [
    {
     "name": "stdout",
     "output_type": "stream",
     "text": [
      "70\n"
     ]
    }
   ],
   "source": [
    "bettery = ['#', '#', '#', '#', '#', '#', '#', '_', '_', '_']\n",
    "\n",
    "def parametric(st,ed):\n",
    "    Max=-1\n",
    "    while 1:\n",
    "        mid=(st+ed)//2\n",
    "        if bettery[mid]=='#':\n",
    "            Max=mid\n",
    "            st=mid+1\n",
    "        elif bettery[mid]=='_':\n",
    "            ed=mid-1\n",
    "        if st>ed:\n",
    "            break\n",
    "    return Max+1\n",
    "\n",
    "st = 0\n",
    "ed = len(bettery)-1\n",
    "answer = parametric(0,9)\n",
    "print(answer*10)\n",
    "\n"
   ]
  },
  {
   "cell_type": "markdown",
   "metadata": {},
   "source": [
    "# 워드작업 중 정전으로 인하여 컴퓨터가 강제로 종료가 되었습니다.\n",
    "# 다시 전기가 들어어 컴퓨터를 켰더니 다행이도 자동복구가 실행 되었습니다.\n",
    "# 우리는 자동복구가 되었을때 커서의 위치가 어디인지를 알려줘야 합니다.\n",
    "# 커서의 위치를 알려주는 프로그래밍을 완성해 주세요.\n",
    "# 시간복잡도 (On^2)보다 빨라야 합니다. \n",
    "\n",
    "# 6*10 size 리스트 (배열)\n",
    "\n",
    "curser=[\n",
    "    '##########',\n",
    "    '##########',\n",
    "    '###_______',\n",
    "    '__________',\n",
    "    '__________',\n",
    "    '__________']"
   ]
  },
  {
   "cell_type": "code",
   "execution_count": 11,
   "metadata": {},
   "outputs": [
    {
     "name": "stdout",
     "output_type": "stream",
     "text": [
      "3\n"
     ]
    }
   ],
   "source": [
    "\n",
    "def ck(st, ed):\n",
    "    while 1:\n",
    "        mid = (st+ed)//2\n",
    "        if curser[mid][0] ==  '#':\n",
    "            st = mid+1\n",
    "        elif curser[mid][0] ==  '_':\n",
    "            ed = mid-1\n",
    "        if st > ed:\n",
    "            return mid\n",
    "\n",
    "\n",
    "\n",
    "curser=[\n",
    "    '##########',\n",
    "    '##########',\n",
    "    '###_______',\n",
    "    '__________',\n",
    "    '__________',\n",
    "    '__________']\n",
    "\n",
    "st = 0\n",
    "ed = len(curser)-1\n",
    "print(ck(st, ed))\n",
    "\n"
   ]
  }
 ],
 "metadata": {
  "kernelspec": {
   "display_name": "Python 3",
   "language": "python",
   "name": "python3"
  },
  "language_info": {
   "codemirror_mode": {
    "name": "ipython",
    "version": 3
   },
   "file_extension": ".py",
   "mimetype": "text/x-python",
   "name": "python",
   "nbconvert_exporter": "python",
   "pygments_lexer": "ipython3",
   "version": "3.9.13"
  }
 },
 "nbformat": 4,
 "nbformat_minor": 2
}
