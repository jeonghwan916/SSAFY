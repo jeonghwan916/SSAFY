{
 "cells": [
  {
   "cell_type": "markdown",
   "metadata": {},
   "source": [
    "파이썬 자료구조  \n",
    "선형: array(배열), linked list(연결 리스트)   \n",
    "비선형: graph(그래프) "
   ]
  },
  {
   "cell_type": "markdown",
   "metadata": {},
   "source": [
    "graph(그래프) : 각각의 데이터의 관계도..?  \n",
    "탐색방법: DFS,BFS  \n",
    "DFS = 깊이 우선 탐색  \n",
    "BFS = 넓이 우선 탐색  \n",
    "tree 구조 : 부모자식 관계, 단방향 , 싸이클이 없다  \n",
    "  트리의 꼭대기를 루트노드  \n",
    "  끝에 있는 노드를 리프노드 라고 한다\n",
    "  \n",
    "tree가 아닌 구조 : "
   ]
  },
  {
   "cell_type": "markdown",
   "metadata": {},
   "source": [
    "저장 방법   \n",
    "\n",
    "인접행렬  \n",
    "인접리스트  \n",
    "일차원배열 (단 이진 트리에 한하여) 저장시 루트 "
   ]
  },
  {
   "cell_type": "code",
   "execution_count": 5,
   "metadata": {},
   "outputs": [
    {
     "name": "stdout",
     "output_type": "stream",
     "text": [
      "Bob\n"
     ]
    }
   ],
   "source": [
    "name = ['Amy', 'Bob', 'Charles', 'Diane', 'Edger']\n",
    "arr = [[0, 0, 0, 0, 1],\n",
    "       [1, 0, 0, 0, 0],\n",
    "       [0, 1, 0, 0, 0],\n",
    "       [0, 1, 0, 0, 0],\n",
    "       [0, 0, 0, 0, 0]]\n",
    "name2=[0]*5\n",
    "for i in range(5):\n",
    "    for j in range(5):\n",
    "        if arr[j][i] ==1:\n",
    "            name2[i] +=1\n",
    "big = 0\n",
    "id = 0\n",
    "for i in range(5):\n",
    "    if name2[i] > big:\n",
    "        big = name2[i]\n",
    "        id = i\n",
    "print(name[id])\n"
   ]
  },
  {
   "cell_type": "code",
   "execution_count": 11,
   "metadata": {},
   "outputs": [
    {
     "name": "stdout",
     "output_type": "stream",
     "text": [
      "C\n"
     ]
    }
   ],
   "source": [
    "\n",
    "arr=[\n",
    "    [0,1,1,0,0,0],\n",
    "    [0,0,0,1,1,0],\n",
    "    [0,0,0,0,0,1],\n",
    "    [0,0,0,0,0,0],\n",
    "    [0,0,0,0,0,0],\n",
    "    [0,0,0,0,0,0]\n",
    "]\n",
    "\n",
    "# graph = [[0 for _ in range(6)] for _ in range(6)]\n",
    "# graph[0][1] = 1\n",
    "# graph[0][2] = 1\n",
    "# graph[1][3] = 1\n",
    "# graph[1][4] = 1\n",
    "# graph[2][5] = 1\n",
    "\n",
    "\n",
    "ch=input()\n",
    "idx=ord(ch)-65\n",
    "\n",
    "parents=-1\n",
    "bro=-1\n",
    "\n",
    "# 부모 먼저 찾기\n",
    "# 입력받은 문자의 부모 노드가 없으면 (루트노드), 즉 형제 없음\n",
    "for i in range(6):\n",
    "    if arr[i][idx]==1:\n",
    "        parents=i\n",
    "        break\n",
    "if parents==-1:\n",
    "    print('형제없음')\n",
    "else:\n",
    "    # 부모인덱스 탐색하며 형제 출력하기\n",
    "    for i in range(6):\n",
    "        if arr[parents][i]==1 and i!=idx:\n",
    "            bro=i\n",
    "            break\n",
    "\n",
    "    if bro==-1:\n",
    "        print('형제없음')\n",
    "    else:\n",
    "        print(chr(bro+ord('A')))"
   ]
  },
  {
   "cell_type": "code",
   "execution_count": 12,
   "metadata": {},
   "outputs": [
    {
     "name": "stdout",
     "output_type": "stream",
     "text": [
      "A\n",
      "B\n",
      "D\n",
      "E\n",
      "C\n",
      "F\n"
     ]
    }
   ],
   "source": [
    "eng = ['A','B','C','D','E','F']\n",
    "arr = [[0,1,1,0,0,0],\n",
    "       [0,0,0,1,1,0],\n",
    "       [0,0,0,0,0,1],\n",
    "       [0,0,0,0,0,0],\n",
    "       [0,0,0,0,0,0],\n",
    "       [0,0,0,0,0,0],]\n",
    "\n",
    "\n",
    "# 지금 0번 인덱스\n",
    "# 0번에서 쭉 이동 해보니 \n",
    "# 2번 인덱스 이동 가능\n",
    "# 2번 인덱스에서 쭉 이동...\n",
    "# 반복\n",
    "\n",
    "\n",
    "def dfs(now):\n",
    "    print(eng[now])\n",
    "    for i in range(6):\n",
    "        if arr[now][i] == 1:\n",
    "            dfs(i)\n",
    "    \n",
    "dfs(0)"
   ]
  },
  {
   "cell_type": "code",
   "execution_count": 13,
   "metadata": {},
   "outputs": [
    {
     "name": "stdout",
     "output_type": "stream",
     "text": [
      "A\n",
      "B\n",
      "E\n",
      "F\n",
      "C\n",
      "D\n"
     ]
    }
   ],
   "source": [
    "eng = ['A','B','C','D','E','F']\n",
    "arr = [[0,1,1,0,0,0],\n",
    "       [0,0,0,0,1,1],\n",
    "       [0,0,0,1,0,0],\n",
    "       [0,0,0,0,0,0],\n",
    "       [0,0,0,0,0,0],\n",
    "       [0,0,0,0,0,0]]\n",
    "\n",
    "def gogo(now):\n",
    "    print(eng[now])\n",
    "    for i in range(6):\n",
    "        if arr[now][i] == 1:\n",
    "            gogo(i)\n",
    "\n",
    "\n",
    "gogo(0)"
   ]
  },
  {
   "cell_type": "code",
   "execution_count": null,
   "metadata": {},
   "outputs": [],
   "source": [
    "name = list(input().split())\n",
    "arr = [[1,2],\n",
    "       [3,4],\n",
    "       [5],\n",
    "       [],\n",
    "       []]\n",
    "\n",
    "\n",
    "answer = []\n",
    "def dfs(now):\n",
    "    global answer\n",
    "    answer.append(name[now])\n",
    "    for i in arr[now]:\n",
    "        dfs(i)\n",
    "\n",
    "\n",
    "dfs(0) # dfs 인덱스를 탐색한다"
   ]
  },
  {
   "cell_type": "code",
   "execution_count": 17,
   "metadata": {},
   "outputs": [
    {
     "name": "stdout",
     "output_type": "stream",
     "text": [
      "B A C D "
     ]
    }
   ],
   "source": [
    "name=list(input().split())\n",
    "arr=[\n",
    "    [0,0,1,1],\n",
    "    [1,0,1,0],\n",
    "    [1,1,0,1],\n",
    "    [0,0,0,0]\n",
    "]\n",
    "\n",
    "used=[0]*4\n",
    "\n",
    "\n",
    "def dfs(now):\n",
    "    print(name[now],end=' ')\n",
    "    for i in range(4):\n",
    "        if used[i]==0 and arr[now][i] == 1:\n",
    "            used[i]=1\n",
    "            dfs(i)\n",
    "\n",
    "\n",
    "used[1]=1\n",
    "dfs(1)"
   ]
  },
  {
   "cell_type": "code",
   "execution_count": 19,
   "metadata": {},
   "outputs": [
    {
     "name": "stdout",
     "output_type": "stream",
     "text": [
      "4\n"
     ]
    }
   ],
   "source": [
    "name=list(input().split())\n",
    "arr=[\n",
    "    [0,1,1,0],\n",
    "    [0,0,1,1],\n",
    "    [0,1,0,1],\n",
    "    [0,0,0,0]\n",
    "]\n",
    "\n",
    "used=[0]*4\n",
    "cnt=0\n",
    "\n",
    "def dfs(now):\n",
    "    global cnt\n",
    "    if now==3: cnt+=1\n",
    "\n",
    "    for i in range(4):\n",
    "        if used[i]==0 and arr[now][i] == 1:\n",
    "            used[i]=1\n",
    "            dfs(i)\n",
    "            used[i]=0\n",
    "\n",
    "used[0]=1 # DFS 시작 인덱스에 해당하는 곳에 1체크\n",
    "dfs(0)\n",
    "print(cnt)"
   ]
  },
  {
   "cell_type": "code",
   "execution_count": null,
   "metadata": {},
   "outputs": [],
   "source": [
    "name=list(input().split())\n",
    "arr=[\n",
    "    [0,3,8,0],\n",
    "    [0,0,1,6],\n",
    "    [0,1,0,1],\n",
    "    [0,0,0,0]\n",
    "]\n",
    "used=[0]*4\n",
    "Min=9999999999\n",
    "\n",
    "def dfs(now,sum):\n",
    "    global Min\n",
    "    if now==3:  # 도착지에 도착 했을때\n",
    "        if sum<Min: # 최소값 갱신\n",
    "            Min=sum\n",
    "\n",
    "    for i in range(4):\n",
    "        if arr[now][i]!=0 and used[i]==0:\n",
    "            used[i]=1\n",
    "            dfs(i,sum+arr[now][i])\n",
    "            used[i]=0\n",
    "\n",
    "used[0]=1\n",
    "dfs(0,0)  # now sum\n",
    "print(Min)"
   ]
  },
  {
   "cell_type": "code",
   "execution_count": 23,
   "metadata": {},
   "outputs": [
    {
     "ename": "IndentationError",
     "evalue": "expected an indented block (3894176139.py, line 17)",
     "output_type": "error",
     "traceback": [
      "\u001b[1;36m  Cell \u001b[1;32mIn[23], line 17\u001b[1;36m\u001b[0m\n\u001b[1;33m    dfs(0)\u001b[0m\n\u001b[1;37m          ^\u001b[0m\n\u001b[1;31mIndentationError\u001b[0m\u001b[1;31m:\u001b[0m expected an indented block\n"
     ]
    }
   ],
   "source": [
    "name=\"ABCDE\"\n",
    "st=input()\n",
    "arr=[\n",
    "    [0,1,0,0,0],\n",
    "    [0,0,1,1,1],\n",
    "    [1,0,0,1,0],\n",
    "    [0,0,0,0,1],\n",
    "    [0,0,0,0,0],\n",
    "]\n",
    "used=[0]*5\n",
    "cnt=0\n",
    "\n",
    "def dfs(now):\n",
    "    global cnt\n",
    "    if name[now]=='E':\n",
    "        cnt+=1\n",
    "    \n",
    "    for i in range(5):\n",
    "        if arr[now][i]==1 and used[i]==0:\n",
    "            used[i]=1\n",
    "            dfs(i)\n",
    "            used[i]=0\n",
    "\n",
    "st_index=0\n",
    "for i in range(5):\n",
    "    if name[i]==st:\n",
    "        st_index=i\n",
    "        break\n",
    "\n",
    "used[st_index]=1\n",
    "dfs(st_index)\n",
    "\n",
    "print(cnt)"
   ]
  },
  {
   "cell_type": "code",
   "execution_count": 32,
   "metadata": {},
   "outputs": [
    {
     "name": "stdout",
     "output_type": "stream",
     "text": [
      "7\n"
     ]
    }
   ],
   "source": [
    "arr=[\n",
    "    [4,5,2],\n",
    "    [-2,1,6],\n",
    "    [3,9,2],\n",
    "    [3,5,2]\n",
    "]\n",
    "\n",
    "# level 4\n",
    "# br 3\n",
    "cnt=0\n",
    "def dfs(level,sum):\n",
    "    global cnt\n",
    "    if level==4:\n",
    "        if sum>20:\n",
    "            cnt+=1\n",
    "        return\n",
    "\n",
    "    for i in range(3):\n",
    "        dfs(level+1,sum+arr[level][i])\n",
    "\n",
    "\n",
    "dfs(0,0)   #level sum\n",
    "print(cnt)\n"
   ]
  },
  {
   "cell_type": "code",
   "execution_count": null,
   "metadata": {},
   "outputs": [],
   "source": [
    "arr=[\n",
    "    [4,5,2],\n",
    "    [-2,1,6],\n",
    "    [3,9,2],\n",
    "    [3,5,2]\n",
    "]\n",
    "\n",
    "# level 4\n",
    "# br 3\n",
    "cnt=0\n",
    "def dfs(level,sum):\n",
    "    global cnt\n",
    "    if level==4:\n",
    "        if sum>20:\n",
    "            cnt+=1\n",
    "        return\n",
    "\n",
    "    for i in range(3):\n",
    "        dfs(level+1,sum+arr[level][i])\n",
    "\n",
    "\n",
    "dfs(0,0)   #level sum\n",
    "print(cnt)\n",
    "\n"
   ]
  },
  {
   "cell_type": "markdown",
   "metadata": {},
   "source": [
    "자료구조   \n",
    "저장:   \n",
    "선현   \n",
    "비선형   \n",
    "\n",
    "관리:\n",
    "스택: 선입 후출   \n",
    "큐: 선입선출\n"
   ]
  },
  {
   "cell_type": "code",
   "execution_count": 3,
   "metadata": {},
   "outputs": [
    {
     "name": "stdout",
     "output_type": "stream",
     "text": [
      "[3, 5, 6, 7, 8]\n",
      "7\n",
      "[3, 5, 6]\n",
      "3\n"
     ]
    }
   ],
   "source": [
    "st = list()\n",
    "st.append(3)\n",
    "st.append(5)\n",
    "st.append(6)\n",
    "st.append(7)\n",
    "st.append(8)\n",
    "print(st)\n",
    "st.pop()\n",
    "a = st.pop() # 시간복잡도가 O(1)\n",
    "print(a)\n",
    "print(st)\n",
    "while st:\n",
    "    a= st.pop()\n",
    "print(a)"
   ]
  },
  {
   "cell_type": "code",
   "execution_count": 4,
   "metadata": {},
   "outputs": [
    {
     "name": "stdout",
     "output_type": "stream",
     "text": [
      "[5, 6, 7, 8, 9]\n",
      "[7, 8, 9]\n"
     ]
    }
   ],
   "source": [
    "queue = list()\n",
    "queue.append(5)\n",
    "queue.append(6)\n",
    "queue.append(7)\n",
    "queue.append(8)\n",
    "queue.append(9)\n",
    "print(queue)\n",
    "queue.pop(0) # 시간복잡도가 O(n) ==  처음이나 중간 값을 빼면  다시 리스트를 정렬해소  오더n의 속도다 (느림) == 이거 안씀\n",
    "queue.pop(0)\n",
    "print(queue)"
   ]
  },
  {
   "cell_type": "code",
   "execution_count": 8,
   "metadata": {},
   "outputs": [
    {
     "name": "stdout",
     "output_type": "stream",
     "text": [
      "deque([5, 6, 7, 8, 9])\n",
      "[5, 6, 7, 8, 9]\n",
      "7 8 9\n"
     ]
    }
   ],
   "source": [
    "from collections import deque\n",
    "q=deque()\n",
    "q.append(5)\n",
    "q.append(6)\n",
    "q.append(7)\n",
    "q.append(8)\n",
    "q.append(9)\n",
    "print(q)\n",
    "print([*q])\n",
    "q.popleft()\n",
    "q.popleft()\n",
    "print(*[*q])\n"
   ]
  },
  {
   "cell_type": "markdown",
   "metadata": {},
   "source": [
    "BFS == 지금 현재 위치에서 갈 수 있는곳을 큐에 저장"
   ]
  },
  {
   "cell_type": "code",
   "execution_count": 13,
   "metadata": {},
   "outputs": [
    {
     "name": "stdout",
     "output_type": "stream",
     "text": [
      "A B C D E F\n"
     ]
    }
   ],
   "source": [
    "from collections import deque\n",
    "\n",
    "name=list(input().split()) # A B C D E F\n",
    "arr=[[0,1,1,0,0,0],\n",
    "    [0,0,0,1,1,0],\n",
    "    [0,0,0,0,0,1],\n",
    "    [0,0,0,0,0,0],\n",
    "    [0,0,0,0,0,0],\n",
    "    [0,0,0,0,0,0]]\n",
    "\n",
    "answer=[]\n",
    "def bfs(st):\n",
    "    global answer\n",
    "    q=deque()\n",
    "    q.append(st)\n",
    "\n",
    "    while q:\n",
    "        now=q.popleft()\n",
    "        answer.append(name[now])\n",
    "        #print(name[now], end='')\n",
    "        for i in range(6):\n",
    "            if arr[now][i]==1:\n",
    "                q.append(i)\n",
    "\n",
    "\n",
    "bfs(0) # bfs 시작인덱스 넣어주기\n",
    "print(*answer)"
   ]
  },
  {
   "cell_type": "code",
   "execution_count": 21,
   "metadata": {},
   "outputs": [
    {
     "name": "stdout",
     "output_type": "stream",
     "text": [
      "A B C D\n"
     ]
    }
   ],
   "source": [
    "from collections import deque\n",
    "\n",
    "name = ['A','B','C','D']\n",
    "map = [[0,1,1,0],\n",
    "       [0,0,0,1],\n",
    "       [0,0,0,0],\n",
    "       [0,0,0,0]]\n",
    "\n",
    "\n",
    "answer=[]\n",
    "def bfs(st):\n",
    "    global answer\n",
    "    q=deque()\n",
    "    q.append(st)\n",
    "\n",
    "    while q:\n",
    "        now=q.popleft()\n",
    "        answer.append(name[now])\n",
    "        #print(name[now], end='')\n",
    "        for i in range(4):\n",
    "            if arr[now][i]==1:\n",
    "                q.append(i)\n",
    "\n",
    "\n",
    "bfs(0) # bfs 시작인덱스 넣어주기\n",
    "print(*answer)"
   ]
  },
  {
   "cell_type": "code",
   "execution_count": 26,
   "metadata": {},
   "outputs": [
    {
     "name": "stdout",
     "output_type": "stream",
     "text": [
      "[0][]\n",
      "[1, 2][2]\n",
      "[2, 3][3]\n",
      "[3][]\n",
      "a b c d\n"
     ]
    }
   ],
   "source": [
    "from collections import deque\n",
    "name = list(input().split())\n",
    "\n",
    "arr = [[0,1,1,0],\n",
    "       [0,0,0,1],\n",
    "       [0,1,0,1],\n",
    "       [0,0,0,0]]\n",
    "\n",
    "used=[0]*4\n",
    "answer = []\n",
    "\n",
    "\n",
    "def bfs(st):\n",
    "    q=deque() # 기록할 큐 만들기\n",
    "    q.append(st) # 시작인덱스를 큐에 넣고 시작\n",
    "    while q: #큐가 다 떨어질 때 까지\n",
    "        print([*q],end='')\n",
    "        now = q.popleft() \n",
    "        print([*q])\n",
    "        answer.append(name[now]) # 방문 순서를 answer에 저장\n",
    "        for i in range(4): # 갈 수 있는 곳 탐색\n",
    "            if arr[now][i] == 1 and used[i] == 0: # 갈 수 있고 and 방문한 적이 없다면\n",
    "                used[i] = 1 # 방문체크 하고\n",
    "                q.append(i) #큐에다 넣어주기 \n",
    "\n",
    "\n",
    "used[0] = 1 # 시작 인덱스 방문 체크\n",
    "bfs(0) # 시작\n",
    "\n",
    "print(*answer)\n"
   ]
  },
  {
   "cell_type": "code",
   "execution_count": 30,
   "metadata": {},
   "outputs": [],
   "source": [
    "from collections import deque\n",
    "from copy import deepcopy\n",
    "name = list(input().split())\n",
    "\n",
    "arr = [[0,1,1,0],\n",
    "       [0,0,1,1],\n",
    "       [0,1,0,1],\n",
    "       [0,0,0,0]]\n",
    "\n",
    "cnt = 0\n",
    "\n",
    "def bfs(st):\n",
    "    global cnt\n",
    "    q = deque()\n",
    "    used=[0]*4\n",
    "    used[st]=1\n",
    "    q.append((st,used))\n",
    "    while q:\n",
    "        now=q.popleft()\n",
    "        if now[0] == 3:\n",
    "            cnt+=1\n",
    "        for i in range(4):\n",
    "            if arr[now[0]][i]==1 and now[1][i]== 0:\n",
    "                used = deepcopy(now[1])\n",
    "                used[i]=1\n",
    "                q.append((i,used))\n",
    "\n",
    "\n"
   ]
  },
  {
   "cell_type": "markdown",
   "metadata": {},
   "source": [
    "Flood Fill"
   ]
  },
  {
   "cell_type": "code",
   "execution_count": 1,
   "metadata": {},
   "outputs": [
    {
     "name": "stdout",
     "output_type": "stream",
     "text": [
      "5 4 3 4\n",
      "4 3 2 3\n",
      "3 2 1 2\n",
      "4 3 2 3\n",
      "5\n"
     ]
    }
   ],
   "source": [
    "from collections import deque\n",
    "n=int(input()) # 배열 사이즈 입력\n",
    "arr=[[0]*n for _ in range(n)]\n",
    "y,x=map(int,input().split())  # 시작 좌표 입력\n",
    "\n",
    "arr[y][x]=1\n",
    "q=deque()\n",
    "q.append([y,x])\n",
    "answer=0\n",
    "while q:\n",
    "    now=q.popleft()\n",
    "    nowy,nowx=now\n",
    "    directy=[-1,1,0,0]\n",
    "    directx=[0,0,-1,1]\n",
    "    for i in range(4):\n",
    "        dy=nowy+directy[i]\n",
    "        dx=nowx+directx[i]\n",
    "        if dy<0 or dx<0 or dy>=n or dx>=n: continue # 배열 범위 체크\n",
    "        if arr[dy][dx]!=0: continue # 이미 꽃이 핀 곳인지 체크\n",
    "        arr[dy][dx]=arr[nowy][nowx]+1\n",
    "        answer=arr[dy][dx]\n",
    "        q.append([dy,dx])\n",
    "\n",
    "for i in arr: # 화단 전체 출력\n",
    "    print(*i)\n",
    "\n",
    "print(answer)"
   ]
  },
  {
   "cell_type": "code",
   "execution_count": 3,
   "metadata": {},
   "outputs": [
    {
     "name": "stdout",
     "output_type": "stream",
     "text": [
      "0\n"
     ]
    }
   ],
   "source": [
    "# N 입력받은 후 N x N 사이즈의 맵에 바이러스를 투입해 보자고 합니다.\n",
    "# 바이러스를 최초로 투입 할 좌표를 입력 받습니다.\n",
    "# 0,1 좌표에는 몇일날 바이러스가 감염 될까요?\n",
    "from collections import deque\n",
    "n=int(input())\n",
    "arr=[[0]*n for _ in range(n)]\n",
    "y,x=map(int,input().split())\n",
    "\n",
    "arr[y][x]=1\n",
    "q=deque()\n",
    "q.append((y,x,1))\n",
    "\n",
    "ans=0\n",
    "while q:\n",
    "    nowy,nowx,level=q.popleft()\n",
    "    directy=[-1,1,0,0]\n",
    "    directx=[0,0,-1,1]\n",
    "    if nowy==0 and nowx==1:\n",
    "        ans=level\n",
    "    for i in range(4):\n",
    "        dy=nowy+directy[i]\n",
    "        dx=nowx+directx[i]\n",
    "\n",
    "        if dy<0 or dx<0 or dy>=n or dx>=n: continue\n",
    "        if arr[dy][dx]!=0: continue\n",
    "        arr[dy][dx]=arr[nowy][nowx]+1\n",
    "        q.append((dy,dx,level+1))\n",
    "\n",
    "        # if dy==0 and dx==1:\n",
    "        #     ans=level+1\n",
    "print(ans)"
   ]
  },
  {
   "cell_type": "code",
   "execution_count": 1,
   "metadata": {},
   "outputs": [],
   "source": [
    "from collections import deque\n",
    "n = int(input())\n",
    "y1,x1= map(int,input().split())\n",
    "y2,x2= map(int,input().split())\n",
    "arr = [[0]*n for _ in range(n)]\n",
    "\n",
    "arr[y1][x1] = 1\n",
    "arr[y2][x2] = 1\n",
    "virus = [(y1,x1,1),(y2,x2,1)]\n",
    "\n",
    "answer = 0\n",
    "\n",
    "\n",
    "def bfs(virus):\n",
    "    q = deque\n",
    "    q.append(virus)\n",
    "    while q:\n",
    "        nowy,nowx,level = q.popleft()\n",
    "        directy=[-1,1,0,0]\n",
    "        directx=[0,0,-1,1]\n",
    "\n",
    "        for i in range(4):\n",
    "            dx = nowx+directx[i]\n",
    "            dy = nowy+directy[i]\n",
    "\n",
    "            if dy < 0 or dx < 0 or dy >= n or dx >= n: continue\n",
    "            if arr[dy][dx] != 0: continue\n",
    "            arr[dy][dx] = arr[nowy][nowx]+1\n",
    "            q.append((dy, dx, level+1))\n",
    "\n",
    "            if dy == 0 and dx == 1:\n",
    "                answer = level+1\n",
    "                return\n",
    "bfs(virus)\n",
    "print(answer)\n",
    "\n",
    "\n"
   ]
  }
 ],
 "metadata": {
  "kernelspec": {
   "display_name": "Python 3",
   "language": "python",
   "name": "python3"
  },
  "language_info": {
   "codemirror_mode": {
    "name": "ipython",
    "version": 3
   },
   "file_extension": ".py",
   "mimetype": "text/x-python",
   "name": "python",
   "nbconvert_exporter": "python",
   "pygments_lexer": "ipython3",
   "version": "3.9.13"
  }
 },
 "nbformat": 4,
 "nbformat_minor": 2
}
