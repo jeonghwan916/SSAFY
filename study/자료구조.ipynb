{
 "cells": [
  {
   "cell_type": "markdown",
   "metadata": {},
   "source": [
    "파이썬 자료구조  \n",
    "선형: array(배열), linked list(연결 리스트)   \n",
    "비선형: graph(그래프) "
   ]
  },
  {
   "cell_type": "markdown",
   "metadata": {},
   "source": [
    "graph(그래프) : 각각의 데이터의 관계도..?  \n",
    "탐색방법: DFS,BFS  \n",
    "DFS = 깊이 우선 탐색  \n",
    "BFS = 넓이 우선 탐색  \n",
    "tree 구조 : 부모자식 관계, 단방향 , 싸이클이 없다  \n",
    "  트리의 꼭대기를 루트노드  \n",
    "  끝에 있는 노드를 리프노드 라고 한다\n",
    "  \n",
    "tree가 아닌 구조 : "
   ]
  },
  {
   "cell_type": "markdown",
   "metadata": {},
   "source": [
    "저장 방법   \n",
    "\n",
    "인접행렬  \n",
    "인접리스트  \n",
    "일차원배열 (단 이진 트리에 한하여) 저장시 루트 "
   ]
  },
  {
   "cell_type": "code",
   "execution_count": 5,
   "metadata": {},
   "outputs": [
    {
     "name": "stdout",
     "output_type": "stream",
     "text": [
      "Bob\n"
     ]
    }
   ],
   "source": [
    "name = ['Amy', 'Bob', 'Charles', 'Diane', 'Edger']\n",
    "arr = [[0, 0, 0, 0, 1],\n",
    "       [1, 0, 0, 0, 0],\n",
    "       [0, 1, 0, 0, 0],\n",
    "       [0, 1, 0, 0, 0],\n",
    "       [0, 0, 0, 0, 0]]\n",
    "name2=[0]*5\n",
    "for i in range(5):\n",
    "    for j in range(5):\n",
    "        if arr[j][i] ==1:\n",
    "            name2[i] +=1\n",
    "big = 0\n",
    "id = 0\n",
    "for i in range(5):\n",
    "    if name2[i] > big:\n",
    "        big = name2[i]\n",
    "        id = i\n",
    "print(name[id])\n"
   ]
  },
  {
   "cell_type": "code",
   "execution_count": 11,
   "metadata": {},
   "outputs": [
    {
     "name": "stdout",
     "output_type": "stream",
     "text": [
      "C\n"
     ]
    }
   ],
   "source": [
    "\n",
    "arr=[\n",
    "    [0,1,1,0,0,0],\n",
    "    [0,0,0,1,1,0],\n",
    "    [0,0,0,0,0,1],\n",
    "    [0,0,0,0,0,0],\n",
    "    [0,0,0,0,0,0],\n",
    "    [0,0,0,0,0,0]\n",
    "]\n",
    "\n",
    "# graph = [[0 for _ in range(6)] for _ in range(6)]\n",
    "# graph[0][1] = 1\n",
    "# graph[0][2] = 1\n",
    "# graph[1][3] = 1\n",
    "# graph[1][4] = 1\n",
    "# graph[2][5] = 1\n",
    "\n",
    "\n",
    "ch=input()\n",
    "idx=ord(ch)-65\n",
    "\n",
    "parents=-1\n",
    "bro=-1\n",
    "\n",
    "# 부모 먼저 찾기\n",
    "# 입력받은 문자의 부모 노드가 없으면 (루트노드), 즉 형제 없음\n",
    "for i in range(6):\n",
    "    if arr[i][idx]==1:\n",
    "        parents=i\n",
    "        break\n",
    "if parents==-1:\n",
    "    print('형제없음')\n",
    "else:\n",
    "    # 부모인덱스 탐색하며 형제 출력하기\n",
    "    for i in range(6):\n",
    "        if arr[parents][i]==1 and i!=idx:\n",
    "            bro=i\n",
    "            break\n",
    "\n",
    "    if bro==-1:\n",
    "        print('형제없음')\n",
    "    else:\n",
    "        print(chr(bro+ord('A')))"
   ]
  },
  {
   "cell_type": "code",
   "execution_count": 12,
   "metadata": {},
   "outputs": [
    {
     "name": "stdout",
     "output_type": "stream",
     "text": [
      "A\n",
      "B\n",
      "D\n",
      "E\n",
      "C\n",
      "F\n"
     ]
    }
   ],
   "source": [
    "eng = ['A','B','C','D','E','F']\n",
    "arr = [[0,1,1,0,0,0],\n",
    "       [0,0,0,1,1,0],\n",
    "       [0,0,0,0,0,1],\n",
    "       [0,0,0,0,0,0],\n",
    "       [0,0,0,0,0,0],\n",
    "       [0,0,0,0,0,0],]\n",
    "\n",
    "\n",
    "# 지금 0번 인덱스\n",
    "# 0번에서 쭉 이동 해보니 \n",
    "# 2번 인덱스 이동 가능\n",
    "# 2번 인덱스에서 쭉 이동...\n",
    "# 반복\n",
    "\n",
    "\n",
    "def dfs(now):\n",
    "    print(eng[now])\n",
    "    for i in range(6):\n",
    "        if arr[now][i] == 1:\n",
    "            dfs(i)\n",
    "    \n",
    "dfs(0)"
   ]
  },
  {
   "cell_type": "code",
   "execution_count": 13,
   "metadata": {},
   "outputs": [
    {
     "name": "stdout",
     "output_type": "stream",
     "text": [
      "A\n",
      "B\n",
      "E\n",
      "F\n",
      "C\n",
      "D\n"
     ]
    }
   ],
   "source": [
    "eng = ['A','B','C','D','E','F']\n",
    "arr = [[0,1,1,0,0,0],\n",
    "       [0,0,0,0,1,1],\n",
    "       [0,0,0,1,0,0],\n",
    "       [0,0,0,0,0,0],\n",
    "       [0,0,0,0,0,0],\n",
    "       [0,0,0,0,0,0]]\n",
    "\n",
    "def gogo(now):\n",
    "    print(eng[now])\n",
    "    for i in range(6):\n",
    "        if arr[now][i] == 1:\n",
    "            gogo(i)\n",
    "\n",
    "\n",
    "gogo(0)"
   ]
  },
  {
   "cell_type": "code",
   "execution_count": null,
   "metadata": {},
   "outputs": [],
   "source": [
    "name = list(input().split())\n",
    "arr = [[1,2],\n",
    "       [3,4],\n",
    "       [5],\n",
    "       [],\n",
    "       []]\n",
    "\n",
    "\n",
    "answer = []\n",
    "def dfs(now):\n",
    "    global answer\n",
    "    answer.append(name[now])\n",
    "    for i in arr[now]:\n",
    "        dfs(i)\n",
    "\n",
    "\n",
    "dfs(0) # dfs 인덱스를 탐색한다"
   ]
  },
  {
   "cell_type": "code",
   "execution_count": 17,
   "metadata": {},
   "outputs": [
    {
     "name": "stdout",
     "output_type": "stream",
     "text": [
      "B A C D "
     ]
    }
   ],
   "source": [
    "name=list(input().split())\n",
    "arr=[\n",
    "    [0,0,1,1],\n",
    "    [1,0,1,0],\n",
    "    [1,1,0,1],\n",
    "    [0,0,0,0]\n",
    "]\n",
    "\n",
    "used=[0]*4\n",
    "\n",
    "\n",
    "def dfs(now):\n",
    "    print(name[now],end=' ')\n",
    "    for i in range(4):\n",
    "        if used[i]==0 and arr[now][i] == 1:\n",
    "            used[i]=1\n",
    "            dfs(i)\n",
    "\n",
    "\n",
    "used[1]=1\n",
    "dfs(1)"
   ]
  },
  {
   "cell_type": "code",
   "execution_count": 19,
   "metadata": {},
   "outputs": [
    {
     "name": "stdout",
     "output_type": "stream",
     "text": [
      "4\n"
     ]
    }
   ],
   "source": [
    "name=list(input().split())\n",
    "arr=[\n",
    "    [0,1,1,0],\n",
    "    [0,0,1,1],\n",
    "    [0,1,0,1],\n",
    "    [0,0,0,0]\n",
    "]\n",
    "\n",
    "used=[0]*4\n",
    "cnt=0\n",
    "\n",
    "def dfs(now):\n",
    "    global cnt\n",
    "    if now==3: cnt+=1\n",
    "\n",
    "    for i in range(4):\n",
    "        if used[i]==0 and arr[now][i] == 1:\n",
    "            used[i]=1\n",
    "            dfs(i)\n",
    "            used[i]=0\n",
    "\n",
    "used[0]=1 # DFS 시작 인덱스에 해당하는 곳에 1체크\n",
    "dfs(0)\n",
    "print(cnt)"
   ]
  },
  {
   "cell_type": "code",
   "execution_count": null,
   "metadata": {},
   "outputs": [],
   "source": [
    "name=list(input().split())\n",
    "arr=[\n",
    "    [0,3,8,0],\n",
    "    [0,0,1,6],\n",
    "    [0,1,0,1],\n",
    "    [0,0,0,0]\n",
    "]\n",
    "used=[0]*4\n",
    "Min=9999999999\n",
    "\n",
    "def dfs(now,sum):\n",
    "    global Min\n",
    "    if now==3:  # 도착지에 도착 했을때\n",
    "        if sum<Min: # 최소값 갱신\n",
    "            Min=sum\n",
    "\n",
    "    for i in range(4):\n",
    "        if arr[now][i]!=0 and used[i]==0:\n",
    "            used[i]=1\n",
    "            dfs(i,sum+arr[now][i])\n",
    "            used[i]=0\n",
    "\n",
    "used[0]=1\n",
    "dfs(0,0)  # now sum\n",
    "print(Min)"
   ]
  },
  {
   "cell_type": "code",
   "execution_count": 23,
   "metadata": {},
   "outputs": [
    {
     "ename": "IndentationError",
     "evalue": "expected an indented block (3894176139.py, line 17)",
     "output_type": "error",
     "traceback": [
      "\u001b[1;36m  Cell \u001b[1;32mIn[23], line 17\u001b[1;36m\u001b[0m\n\u001b[1;33m    dfs(0)\u001b[0m\n\u001b[1;37m          ^\u001b[0m\n\u001b[1;31mIndentationError\u001b[0m\u001b[1;31m:\u001b[0m expected an indented block\n"
     ]
    }
   ],
   "source": [
    "name=\"ABCDE\"\n",
    "st=input()\n",
    "arr=[\n",
    "    [0,1,0,0,0],\n",
    "    [0,0,1,1,1],\n",
    "    [1,0,0,1,0],\n",
    "    [0,0,0,0,1],\n",
    "    [0,0,0,0,0],\n",
    "]\n",
    "used=[0]*5\n",
    "cnt=0\n",
    "\n",
    "def dfs(now):\n",
    "    global cnt\n",
    "    if name[now]=='E':\n",
    "        cnt+=1\n",
    "    \n",
    "    for i in range(5):\n",
    "        if arr[now][i]==1 and used[i]==0:\n",
    "            used[i]=1\n",
    "            dfs(i)\n",
    "            used[i]=0\n",
    "\n",
    "st_index=0\n",
    "for i in range(5):\n",
    "    if name[i]==st:\n",
    "        st_index=i\n",
    "        break\n",
    "\n",
    "used[st_index]=1\n",
    "dfs(st_index)\n",
    "\n",
    "print(cnt)"
   ]
  },
  {
   "cell_type": "code",
   "execution_count": 32,
   "metadata": {},
   "outputs": [
    {
     "name": "stdout",
     "output_type": "stream",
     "text": [
      "7\n"
     ]
    }
   ],
   "source": [
    "arr=[\n",
    "    [4,5,2],\n",
    "    [-2,1,6],\n",
    "    [3,9,2],\n",
    "    [3,5,2]\n",
    "]\n",
    "\n",
    "# level 4\n",
    "# br 3\n",
    "cnt=0\n",
    "def dfs(level,sum):\n",
    "    global cnt\n",
    "    if level==4:\n",
    "        if sum>20:\n",
    "            cnt+=1\n",
    "        return\n",
    "\n",
    "    for i in range(3):\n",
    "        dfs(level+1,sum+arr[level][i])\n",
    "\n",
    "\n",
    "dfs(0,0)   #level sum\n",
    "print(cnt)\n"
   ]
  },
  {
   "cell_type": "code",
   "execution_count": null,
   "metadata": {},
   "outputs": [],
   "source": [
    "arr=[\n",
    "    [4,5,2],\n",
    "    [-2,1,6],\n",
    "    [3,9,2],\n",
    "    [3,5,2]\n",
    "]\n",
    "\n",
    "# level 4\n",
    "# br 3\n",
    "cnt=0\n",
    "def dfs(level,sum):\n",
    "    global cnt\n",
    "    if level==4:\n",
    "        if sum>20:\n",
    "            cnt+=1\n",
    "        return\n",
    "\n",
    "    for i in range(3):\n",
    "        dfs(level+1,sum+arr[level][i])\n",
    "\n",
    "\n",
    "dfs(0,0)   #level sum\n",
    "print(cnt)\n",
    "\n"
   ]
  }
 ],
 "metadata": {
  "kernelspec": {
   "display_name": "Python 3",
   "language": "python",
   "name": "python3"
  },
  "language_info": {
   "codemirror_mode": {
    "name": "ipython",
    "version": 3
   },
   "file_extension": ".py",
   "mimetype": "text/x-python",
   "name": "python",
   "nbconvert_exporter": "python",
   "pygments_lexer": "ipython3",
   "version": "3.9.13"
  }
 },
 "nbformat": 4,
 "nbformat_minor": 2
}
